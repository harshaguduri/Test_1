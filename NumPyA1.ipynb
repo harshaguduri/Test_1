{
 "cells": [
  {
   "cell_type": "code",
   "execution_count": 20,
   "id": "7f02229e",
   "metadata": {},
   "outputs": [
    {
     "data": {
      "text/plain": [
       "array('i', [2, 8, 7, 11])"
      ]
     },
     "execution_count": 20,
     "metadata": {},
     "output_type": "execute_result"
    }
   ],
   "source": [
    "import array as arr\n",
    "list = [2,8,7,11]\n",
    "Q1 = arr.array('i', list)\n",
    "Q1"
   ]
  },
  {
   "cell_type": "code",
   "execution_count": 28,
   "id": "e41172d9",
   "metadata": {},
   "outputs": [
    {
     "name": "stdout",
     "output_type": "stream",
     "text": [
      "[[1 2 3]\n",
      " [4 5 6]\n",
      " [7 8 9]]\n"
     ]
    }
   ],
   "source": [
    "import numpy as np\n",
    "Q2 = np.array([[1, 2, 3], \n",
    "      [4, 5, 6], \n",
    "      [7, 8, 9]])\n",
    "\n",
    "print(Q2)"
   ]
  },
  {
   "cell_type": "code",
   "execution_count": null,
   "id": "c55ce288",
   "metadata": {},
   "outputs": [],
   "source": [
    "Q3 = Q2[ :, 1:2]\n",
    "print(Q3)"
   ]
  },
  {
   "cell_type": "code",
   "execution_count": null,
   "id": "e5c734a3",
   "metadata": {},
   "outputs": [],
   "source": [
    "np.random.seed(6)\n",
    "Q4 = np.random.randint(9, size = (6,5))\n",
    "Q4"
   ]
  },
  {
   "cell_type": "code",
   "execution_count": null,
   "id": "ba850377",
   "metadata": {},
   "outputs": [],
   "source": [
    "Q5 = Q4[:3, :2]\n",
    "print(Q5)"
   ]
  },
  {
   "cell_type": "code",
   "execution_count": null,
   "id": "6bb9e0e9",
   "metadata": {},
   "outputs": [],
   "source": []
  },
  {
   "cell_type": "code",
   "execution_count": null,
   "id": "6189c86d",
   "metadata": {},
   "outputs": [],
   "source": []
  }
 ],
 "metadata": {
  "kernelspec": {
   "display_name": "Python 3",
   "language": "python",
   "name": "python3"
  },
  "language_info": {
   "codemirror_mode": {
    "name": "ipython",
    "version": 3
   },
   "file_extension": ".py",
   "mimetype": "text/x-python",
   "name": "python",
   "nbconvert_exporter": "python",
   "pygments_lexer": "ipython3",
   "version": "3.8.8"
  }
 },
 "nbformat": 4,
 "nbformat_minor": 5
}
